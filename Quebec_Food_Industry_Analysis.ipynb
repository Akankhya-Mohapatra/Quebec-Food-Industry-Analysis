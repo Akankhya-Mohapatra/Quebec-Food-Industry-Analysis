{
  "nbformat": 4,
  "nbformat_minor": 0,
  "metadata": {
    "kernelspec": {
      "display_name": "Python 3",
      "language": "python",
      "name": "python3"
    },
    "language_info": {
      "codemirror_mode": {
        "name": "ipython",
        "version": 3
      },
      "file_extension": ".py",
      "mimetype": "text/x-python",
      "name": "python",
      "nbconvert_exporter": "python",
      "pygments_lexer": "ipython3",
      "version": "3.8.3"
    },
    "colab": {
      "name": "Quebec_Food_Industry_Analysis.ipynb",
      "provenance": [],
      "collapsed_sections": [
        "cDALgANITM7Z",
        "qu366p9Mt8W7",
        "ZT0nBQfhvgmb",
        "F9UMC8yvzTnQ",
        "tDVQ6PvaTM7Z"
      ]
    }
  },
  "cells": [
    {
      "cell_type": "code",
      "metadata": {
        "id": "_DwFY4hITM7U"
      },
      "source": [
        "import numpy as np\n",
        "import pandas as pd\n",
        "import matplotlib.pyplot as plt\n",
        "import matplotlib.cm as cm\n",
        "import matplotlib.colors as colors\n",
        "import requests\n",
        "import io\n",
        "import folium\n",
        "import geopy\n",
        "import json\n",
        "from geopy.geocoders import Nominatim\n",
        "from sklearn.cluster import KMeans"
      ],
      "execution_count": null,
      "outputs": []
    },
    {
      "cell_type": "markdown",
      "metadata": {
        "id": "CseSfER1TM7V"
      },
      "source": [
        "#### Let' scrape a wikipedia page (which needs serious donations, please donate) to get the list of towns in Quebec"
      ]
    },
    {
      "cell_type": "markdown",
      "metadata": {
        "id": "NEkiQB3kQtcr"
      },
      "source": [
        "![Wikipedia logo](https://upload.wikimedia.org/wikipedia/commons/7/77/Wikipedia_svg_logo.svg)"
      ]
    },
    {
      "cell_type": "code",
      "metadata": {
        "id": "qGY8hiExTM7V"
      },
      "source": [
        "tables=pd.read_html(\"https://en.wikipedia.org/wiki/List_of_towns_in_Quebec\")\n"
      ],
      "execution_count": null,
      "outputs": []
    },
    {
      "cell_type": "code",
      "metadata": {
        "colab": {
          "base_uri": "https://localhost:8080/",
          "height": 402
        },
        "id": "s_3-k4QHclbM",
        "outputId": "40aee676-5df9-446d-a70a-c55a0d209975"
      },
      "source": [
        "tables1=tables[1]\n",
        "tables1"
      ],
      "execution_count": null,
      "outputs": [
        {
          "output_type": "execute_result",
          "data": {
            "text/html": [
              "<div>\n",
              "<style scoped>\n",
              "    .dataframe tbody tr th:only-of-type {\n",
              "        vertical-align: middle;\n",
              "    }\n",
              "\n",
              "    .dataframe tbody tr th {\n",
              "        vertical-align: top;\n",
              "    }\n",
              "\n",
              "    .dataframe thead th {\n",
              "        text-align: right;\n",
              "    }\n",
              "</style>\n",
              "<table border=\"1\" class=\"dataframe\">\n",
              "  <thead>\n",
              "    <tr style=\"text-align: right;\">\n",
              "      <th></th>\n",
              "      <th>Name</th>\n",
              "      <th>Regional county municipality</th>\n",
              "      <th>Region</th>\n",
              "      <th>CMA/CA</th>\n",
              "      <th>Population(2016)[2]</th>\n",
              "      <th>Population(2011)[2]</th>\n",
              "      <th>Change(%)[2]</th>\n",
              "      <th>Area(km²)[2]</th>\n",
              "      <th>Populationdensity[2]</th>\n",
              "    </tr>\n",
              "  </thead>\n",
              "  <tbody>\n",
              "    <tr>\n",
              "      <th>0</th>\n",
              "      <td>Acton Vale</td>\n",
              "      <td>Acton</td>\n",
              "      <td>Montérégie</td>\n",
              "      <td>NaN</td>\n",
              "      <td>7656</td>\n",
              "      <td>7664</td>\n",
              "      <td>−0.1</td>\n",
              "      <td>91.10</td>\n",
              "      <td>84.0</td>\n",
              "    </tr>\n",
              "    <tr>\n",
              "      <th>1</th>\n",
              "      <td>Alma</td>\n",
              "      <td>Lac-Saint-Jean-Est</td>\n",
              "      <td>Saguenay–Lac-Saint-Jean</td>\n",
              "      <td>Alma</td>\n",
              "      <td>30776</td>\n",
              "      <td>30904</td>\n",
              "      <td>−0.4</td>\n",
              "      <td>196.54</td>\n",
              "      <td>156.6</td>\n",
              "    </tr>\n",
              "    <tr>\n",
              "      <th>2</th>\n",
              "      <td>Amos</td>\n",
              "      <td>Abitibi</td>\n",
              "      <td>Abitibi-Témiscamingue</td>\n",
              "      <td>Amos</td>\n",
              "      <td>12823</td>\n",
              "      <td>12671</td>\n",
              "      <td>1.2</td>\n",
              "      <td>430.29</td>\n",
              "      <td>29.8</td>\n",
              "    </tr>\n",
              "    <tr>\n",
              "      <th>3</th>\n",
              "      <td>Amqui</td>\n",
              "      <td>La Matapédia</td>\n",
              "      <td>Bas-Saint-Laurent</td>\n",
              "      <td>NaN</td>\n",
              "      <td>6178</td>\n",
              "      <td>6322</td>\n",
              "      <td>−2.3</td>\n",
              "      <td>121.17</td>\n",
              "      <td>51.0</td>\n",
              "    </tr>\n",
              "    <tr>\n",
              "      <th>4</th>\n",
              "      <td>Baie-Comeau</td>\n",
              "      <td>Manicouagan</td>\n",
              "      <td>Côte-Nord</td>\n",
              "      <td>Baie-Comeau</td>\n",
              "      <td>21536</td>\n",
              "      <td>22113</td>\n",
              "      <td>−2.6</td>\n",
              "      <td>336.59</td>\n",
              "      <td>64.0</td>\n",
              "    </tr>\n",
              "    <tr>\n",
              "      <th>...</th>\n",
              "      <td>...</td>\n",
              "      <td>...</td>\n",
              "      <td>...</td>\n",
              "      <td>...</td>\n",
              "      <td>...</td>\n",
              "      <td>...</td>\n",
              "      <td>...</td>\n",
              "      <td>...</td>\n",
              "      <td>...</td>\n",
              "    </tr>\n",
              "    <tr>\n",
              "      <th>220</th>\n",
              "      <td>Waterloo</td>\n",
              "      <td>La Haute-Yamaska</td>\n",
              "      <td>Montérégie</td>\n",
              "      <td>NaN</td>\n",
              "      <td>4410</td>\n",
              "      <td>4330</td>\n",
              "      <td>1.8</td>\n",
              "      <td>12.24</td>\n",
              "      <td>360.2</td>\n",
              "    </tr>\n",
              "    <tr>\n",
              "      <th>221</th>\n",
              "      <td>Waterville</td>\n",
              "      <td>Coaticook</td>\n",
              "      <td>Estrie</td>\n",
              "      <td>Sherbrooke</td>\n",
              "      <td>2121</td>\n",
              "      <td>2028</td>\n",
              "      <td>4.6</td>\n",
              "      <td>44.10</td>\n",
              "      <td>48.1</td>\n",
              "    </tr>\n",
              "    <tr>\n",
              "      <th>222</th>\n",
              "      <td>Westmount</td>\n",
              "      <td>NaN</td>\n",
              "      <td>Montréal</td>\n",
              "      <td>Montréal</td>\n",
              "      <td>20312</td>\n",
              "      <td>19931</td>\n",
              "      <td>1.9</td>\n",
              "      <td>4.04</td>\n",
              "      <td>5024.9</td>\n",
              "    </tr>\n",
              "    <tr>\n",
              "      <th>223</th>\n",
              "      <td>Windsor</td>\n",
              "      <td>Le Val-Saint-François</td>\n",
              "      <td>Estrie</td>\n",
              "      <td>NaN</td>\n",
              "      <td>5419</td>\n",
              "      <td>5330</td>\n",
              "      <td>1.7</td>\n",
              "      <td>14.56</td>\n",
              "      <td>372.2</td>\n",
              "    </tr>\n",
              "    <tr>\n",
              "      <th>224</th>\n",
              "      <td>Total villes (cities/towns)</td>\n",
              "      <td>—</td>\n",
              "      <td>—</td>\n",
              "      <td>—</td>\n",
              "      <td>6568941</td>\n",
              "      <td>6266482</td>\n",
              "      <td>4.8</td>\n",
              "      <td>81674.44</td>\n",
              "      <td>80.4</td>\n",
              "    </tr>\n",
              "  </tbody>\n",
              "</table>\n",
              "<p>225 rows × 9 columns</p>\n",
              "</div>"
            ],
            "text/plain": [
              "                            Name  ... Populationdensity[2]\n",
              "0                     Acton Vale  ...                 84.0\n",
              "1                           Alma  ...                156.6\n",
              "2                           Amos  ...                 29.8\n",
              "3                          Amqui  ...                 51.0\n",
              "4                    Baie-Comeau  ...                 64.0\n",
              "..                           ...  ...                  ...\n",
              "220                     Waterloo  ...                360.2\n",
              "221                   Waterville  ...                 48.1\n",
              "222                    Westmount  ...               5024.9\n",
              "223                      Windsor  ...                372.2\n",
              "224  Total villes (cities/towns)  ...                 80.4\n",
              "\n",
              "[225 rows x 9 columns]"
            ]
          },
          "metadata": {
            "tags": []
          },
          "execution_count": 9
        }
      ]
    },
    {
      "cell_type": "code",
      "metadata": {
        "colab": {
          "base_uri": "https://localhost:8080/",
          "height": 402
        },
        "id": "vk2Twx04TM7V",
        "outputId": "85f25f02-52c1-4880-d0a8-c3e5dfdbae7a"
      },
      "source": [
        "df=tables1.loc[:,['Name','Region']]\n",
        "df"
      ],
      "execution_count": null,
      "outputs": [
        {
          "output_type": "execute_result",
          "data": {
            "text/html": [
              "<div>\n",
              "<style scoped>\n",
              "    .dataframe tbody tr th:only-of-type {\n",
              "        vertical-align: middle;\n",
              "    }\n",
              "\n",
              "    .dataframe tbody tr th {\n",
              "        vertical-align: top;\n",
              "    }\n",
              "\n",
              "    .dataframe thead th {\n",
              "        text-align: right;\n",
              "    }\n",
              "</style>\n",
              "<table border=\"1\" class=\"dataframe\">\n",
              "  <thead>\n",
              "    <tr style=\"text-align: right;\">\n",
              "      <th></th>\n",
              "      <th>Name</th>\n",
              "      <th>Region</th>\n",
              "    </tr>\n",
              "  </thead>\n",
              "  <tbody>\n",
              "    <tr>\n",
              "      <th>0</th>\n",
              "      <td>Acton Vale</td>\n",
              "      <td>Montérégie</td>\n",
              "    </tr>\n",
              "    <tr>\n",
              "      <th>1</th>\n",
              "      <td>Alma</td>\n",
              "      <td>Saguenay–Lac-Saint-Jean</td>\n",
              "    </tr>\n",
              "    <tr>\n",
              "      <th>2</th>\n",
              "      <td>Amos</td>\n",
              "      <td>Abitibi-Témiscamingue</td>\n",
              "    </tr>\n",
              "    <tr>\n",
              "      <th>3</th>\n",
              "      <td>Amqui</td>\n",
              "      <td>Bas-Saint-Laurent</td>\n",
              "    </tr>\n",
              "    <tr>\n",
              "      <th>4</th>\n",
              "      <td>Baie-Comeau</td>\n",
              "      <td>Côte-Nord</td>\n",
              "    </tr>\n",
              "    <tr>\n",
              "      <th>...</th>\n",
              "      <td>...</td>\n",
              "      <td>...</td>\n",
              "    </tr>\n",
              "    <tr>\n",
              "      <th>220</th>\n",
              "      <td>Waterloo</td>\n",
              "      <td>Montérégie</td>\n",
              "    </tr>\n",
              "    <tr>\n",
              "      <th>221</th>\n",
              "      <td>Waterville</td>\n",
              "      <td>Estrie</td>\n",
              "    </tr>\n",
              "    <tr>\n",
              "      <th>222</th>\n",
              "      <td>Westmount</td>\n",
              "      <td>Montréal</td>\n",
              "    </tr>\n",
              "    <tr>\n",
              "      <th>223</th>\n",
              "      <td>Windsor</td>\n",
              "      <td>Estrie</td>\n",
              "    </tr>\n",
              "    <tr>\n",
              "      <th>224</th>\n",
              "      <td>Total villes (cities/towns)</td>\n",
              "      <td>—</td>\n",
              "    </tr>\n",
              "  </tbody>\n",
              "</table>\n",
              "<p>225 rows × 2 columns</p>\n",
              "</div>"
            ],
            "text/plain": [
              "                            Name                   Region\n",
              "0                     Acton Vale               Montérégie\n",
              "1                           Alma  Saguenay–Lac-Saint-Jean\n",
              "2                           Amos    Abitibi-Témiscamingue\n",
              "3                          Amqui        Bas-Saint-Laurent\n",
              "4                    Baie-Comeau                Côte-Nord\n",
              "..                           ...                      ...\n",
              "220                     Waterloo               Montérégie\n",
              "221                   Waterville                   Estrie\n",
              "222                    Westmount                 Montréal\n",
              "223                      Windsor                   Estrie\n",
              "224  Total villes (cities/towns)                        —\n",
              "\n",
              "[225 rows x 2 columns]"
            ]
          },
          "metadata": {
            "tags": []
          },
          "execution_count": 10
        }
      ]
    },
    {
      "cell_type": "code",
      "metadata": {
        "colab": {
          "base_uri": "https://localhost:8080/"
        },
        "id": "7RNDsY5kw9KT",
        "outputId": "0efcaba0-9606-4e51-b508-3f47c63901e5"
      },
      "source": [
        "df.isna().any().any() #missing values present or not"
      ],
      "execution_count": null,
      "outputs": [
        {
          "output_type": "execute_result",
          "data": {
            "text/plain": [
              "False"
            ]
          },
          "metadata": {
            "tags": []
          },
          "execution_count": 11
        }
      ]
    },
    {
      "cell_type": "code",
      "metadata": {
        "colab": {
          "base_uri": "https://localhost:8080/"
        },
        "id": "GsCBzw6qyei8",
        "outputId": "5cbd0c45-041c-44f1-89cd-5a0d25336ada"
      },
      "source": [
        "df.isna().sum().sum() #total no of missing values"
      ],
      "execution_count": null,
      "outputs": [
        {
          "output_type": "execute_result",
          "data": {
            "text/plain": [
              "0"
            ]
          },
          "metadata": {
            "tags": []
          },
          "execution_count": 12
        }
      ]
    },
    {
      "cell_type": "code",
      "metadata": {
        "colab": {
          "base_uri": "https://localhost:8080/"
        },
        "id": "Hlt76CQTyzR_",
        "outputId": "c0452a0f-7794-475d-ef2c-a9ecee277bca"
      },
      "source": [
        "df.isna().sum()/(len(df))*100 #missing values percentage"
      ],
      "execution_count": null,
      "outputs": [
        {
          "output_type": "execute_result",
          "data": {
            "text/plain": [
              "Name      0.0\n",
              "Region    0.0\n",
              "dtype: float64"
            ]
          },
          "metadata": {
            "tags": []
          },
          "execution_count": 13
        }
      ]
    },
    {
      "cell_type": "code",
      "metadata": {
        "colab": {
          "base_uri": "https://localhost:8080/"
        },
        "id": "001Oe940zo4J",
        "outputId": "260b860b-acc7-4e74-e4d1-d973f87f3476"
      },
      "source": [
        "df.loc[:, df.isnull().any()].columns #determining columns with missing values"
      ],
      "execution_count": null,
      "outputs": [
        {
          "output_type": "execute_result",
          "data": {
            "text/plain": [
              "Index([], dtype='object')"
            ]
          },
          "metadata": {
            "tags": []
          },
          "execution_count": 14
        }
      ]
    },
    {
      "cell_type": "code",
      "metadata": {
        "colab": {
          "base_uri": "https://localhost:8080/"
        },
        "id": "OKKNpVp_zIpe",
        "outputId": "0d42879a-3897-43ad-80b5-40f092298916"
      },
      "source": [
        "df.isna().sum()/(len(df))*100 #no of missing values in df_town"
      ],
      "execution_count": null,
      "outputs": [
        {
          "output_type": "execute_result",
          "data": {
            "text/plain": [
              "Name      0.0\n",
              "Region    0.0\n",
              "dtype: float64"
            ]
          },
          "metadata": {
            "tags": []
          },
          "execution_count": 15
        }
      ]
    },
    {
      "cell_type": "code",
      "metadata": {
        "id": "LHXZnQlCrmC8",
        "colab": {
          "base_uri": "https://localhost:8080/"
        },
        "outputId": "da1d7688-13eb-47c9-dead-ebcb6fd1ab5c"
      },
      "source": [
        "#determining values with [] in Name column\r\n",
        "print(df[df.Name.str.endswith(\"]\")])\r\n",
        "#rows with ___ in Region column\r\n",
        "print(df.loc[215:224 , :])\r\n",
        "#removing the columns\r\n",
        "df=df.drop([81,96,116,141,224])"
      ],
      "execution_count": null,
      "outputs": [
        {
          "output_type": "stream",
          "text": [
            "                   Name              Region\n",
            "81       La Tuque[QC 1]            Mauricie\n",
            "96   L'Île-Dorval[QC 2]            Montréal\n",
            "116      Montreal[QC 3]            Montréal\n",
            "141        Québec[QC 4]  Capitale-Nationale\n",
            "                            Name                 Region\n",
            "215                     Varennes             Montérégie\n",
            "216             Vaudreuil-Dorion             Montérégie\n",
            "217                Victoriaville       Centre-du-Québec\n",
            "218                  Ville-Marie  Abitibi-Témiscamingue\n",
            "219                      Warwick       Centre-du-Québec\n",
            "220                     Waterloo             Montérégie\n",
            "221                   Waterville                 Estrie\n",
            "222                    Westmount               Montréal\n",
            "223                      Windsor                 Estrie\n",
            "224  Total villes (cities/towns)                      —\n"
          ],
          "name": "stdout"
        }
      ]
    },
    {
      "cell_type": "code",
      "metadata": {
        "colab": {
          "base_uri": "https://localhost:8080/",
          "height": 402
        },
        "id": "jEnYTUr9CFG0",
        "outputId": "60b00c4f-1ca6-493d-c0da-cb01fd75ca1c"
      },
      "source": [
        "#reorder index after removing columns\r\n",
        "df_town=df\r\n",
        "df_town.reset_index(drop=True, inplace=True) \r\n",
        "df_town.loc[78:220 , :]"
      ],
      "execution_count": null,
      "outputs": [
        {
          "output_type": "execute_result",
          "data": {
            "text/html": [
              "<div>\n",
              "<style scoped>\n",
              "    .dataframe tbody tr th:only-of-type {\n",
              "        vertical-align: middle;\n",
              "    }\n",
              "\n",
              "    .dataframe tbody tr th {\n",
              "        vertical-align: top;\n",
              "    }\n",
              "\n",
              "    .dataframe thead th {\n",
              "        text-align: right;\n",
              "    }\n",
              "</style>\n",
              "<table border=\"1\" class=\"dataframe\">\n",
              "  <thead>\n",
              "    <tr style=\"text-align: right;\">\n",
              "      <th></th>\n",
              "      <th>Name</th>\n",
              "      <th>Region</th>\n",
              "    </tr>\n",
              "  </thead>\n",
              "  <tbody>\n",
              "    <tr>\n",
              "      <th>78</th>\n",
              "      <td>La Pocatière</td>\n",
              "      <td>Bas-Saint-Laurent</td>\n",
              "    </tr>\n",
              "    <tr>\n",
              "      <th>79</th>\n",
              "      <td>La Prairie</td>\n",
              "      <td>Montérégie</td>\n",
              "    </tr>\n",
              "    <tr>\n",
              "      <th>80</th>\n",
              "      <td>La Sarre</td>\n",
              "      <td>Abitibi-Témiscamingue</td>\n",
              "    </tr>\n",
              "    <tr>\n",
              "      <th>81</th>\n",
              "      <td>Lac-Delage</td>\n",
              "      <td>Capitale-Nationale</td>\n",
              "    </tr>\n",
              "    <tr>\n",
              "      <th>82</th>\n",
              "      <td>Lachute</td>\n",
              "      <td>Laurentides</td>\n",
              "    </tr>\n",
              "    <tr>\n",
              "      <th>...</th>\n",
              "      <td>...</td>\n",
              "      <td>...</td>\n",
              "    </tr>\n",
              "    <tr>\n",
              "      <th>215</th>\n",
              "      <td>Warwick</td>\n",
              "      <td>Centre-du-Québec</td>\n",
              "    </tr>\n",
              "    <tr>\n",
              "      <th>216</th>\n",
              "      <td>Waterloo</td>\n",
              "      <td>Montérégie</td>\n",
              "    </tr>\n",
              "    <tr>\n",
              "      <th>217</th>\n",
              "      <td>Waterville</td>\n",
              "      <td>Estrie</td>\n",
              "    </tr>\n",
              "    <tr>\n",
              "      <th>218</th>\n",
              "      <td>Westmount</td>\n",
              "      <td>Montréal</td>\n",
              "    </tr>\n",
              "    <tr>\n",
              "      <th>219</th>\n",
              "      <td>Windsor</td>\n",
              "      <td>Estrie</td>\n",
              "    </tr>\n",
              "  </tbody>\n",
              "</table>\n",
              "<p>142 rows × 2 columns</p>\n",
              "</div>"
            ],
            "text/plain": [
              "             Name                 Region\n",
              "78   La Pocatière      Bas-Saint-Laurent\n",
              "79     La Prairie             Montérégie\n",
              "80       La Sarre  Abitibi-Témiscamingue\n",
              "81     Lac-Delage     Capitale-Nationale\n",
              "82        Lachute            Laurentides\n",
              "..            ...                    ...\n",
              "215       Warwick       Centre-du-Québec\n",
              "216      Waterloo             Montérégie\n",
              "217    Waterville                 Estrie\n",
              "218     Westmount               Montréal\n",
              "219       Windsor                 Estrie\n",
              "\n",
              "[142 rows x 2 columns]"
            ]
          },
          "metadata": {
            "tags": []
          },
          "execution_count": 17
        }
      ]
    },
    {
      "cell_type": "markdown",
      "metadata": {
        "id": "9zxWBsptyxKO"
      },
      "source": [
        "#### Let's get the geographical location of the towns\n"
      ]
    },
    {
      "cell_type": "code",
      "metadata": {
        "id": "vabBqKiM0BGA",
        "colab": {
          "base_uri": "https://localhost:8080/"
        },
        "outputId": "313a1f7c-c642-49e6-dc6b-03892e940dd7"
      },
      "source": [
        "count=df_town.index\r\n",
        "print(count)"
      ],
      "execution_count": null,
      "outputs": [
        {
          "output_type": "stream",
          "text": [
            "RangeIndex(start=0, stop=220, step=1)\n"
          ],
          "name": "stdout"
        }
      ]
    },
    {
      "cell_type": "code",
      "metadata": {
        "colab": {
          "base_uri": "https://localhost:8080/"
        },
        "id": "LL7xsYbs9TuL",
        "outputId": "3fceeb63-c46d-40dc-c770-e466f9733697"
      },
      "source": [
        "#FOR FULL DATA (220 ROWS)\r\n",
        "town_latitude=[0 for a in range(220)]\r\n",
        "town_longitude=[0 for a in range(220)]\r\n",
        "for i in list(range(220)):\r\n",
        "  address = df_town.loc[i,\"Name\"]+\", \"+df_town.loc[i,\"Region\"]+\", Quebec\"\r\n",
        "  locator = Nominatim(user_agent=\"quebec_explore\")\r\n",
        "  location = locator.geocode(address)\r\n",
        "  town_latitude[i]=location.latitude\r\n",
        "  town_longitude[i]=location.longitude\r\n",
        "\r\n",
        "print(town_latitude)\r\n",
        "print(town_longitude)"
      ],
      "execution_count": null,
      "outputs": [
        {
          "output_type": "stream",
          "text": [
            "[45.6471564, 48.548887, 48.5718519, 48.4656706, 49.217597, 45.4174258, 47.444343, 46.0005197, 45.4289766, 46.210725, 45.3139778, 47.043926, 46.339343, 45.120537, 47.3905166, 45.5643183, 46.0828098, 45.67932, 45.6130352, 45.6713243, 48.0444351, 45.6050197, 45.219192, 45.318116, 45.4554829, 45.676516, 45.3867947, 49.0959673, 46.6701717, 45.437955, 48.1014497, 48.3542375, 45.4473898, 48.3485676, 49.783855, 45.725519649999995, 45.3619066, 46.971117, 49.9137407, 47.694512, 45.1334169, 45.8573781, 45.4124593, 45.4772716, 45.2963957, 45.2076125, 45.785278, 46.20431, 47.547799, 45.3749509, 48.417809, 45.5372581, 45.904822, 48.883231, 45.48423, 46.676532, 45.4453082, 45.8864303, 45.130469, 48.5026134, 45.4828558, 46.0423647, 45.2831, 52.7931065, 48.739437, 46.871928, 48.6580556, 45.4841214, 46.0933721, 45.3990409, 48.5347749, 45.4811545, 45.464465, 45.087339, 46.0239798, 45.857978, 45.4529194, 47.657525, 47.369524, 45.4175472, 48.8000956, 46.9706256, 45.6560478, 45.5905023, 46.9361368, 46.858548, 46.8063745, 45.8307051, 45.60558895, 45.883078, 49.0531411, 45.8496816, 45.3465166, 46.7910096, 45.4313481, 45.393146, 45.5172382, 45.6704733, 46.255609, 48.7554185, 45.265463, 48.137225, 46.3781464, 45.4314173, 45.7453521, 49.754138100000006, 48.8468633, 45.310444, 48.429201, 48.675093, 45.623402, 48.583875, 46.5524071, 46.9826328, 45.452853, 45.6309797, 45.5623512, 46.11588, 45.5086157, 48.9602586, 46.698199, 48.1651194, 46.2273284, 48.837153, 45.351663, 46.0421555, 45.5425651, 48.096866199999994, 48.5222989, 45.371202, 46.3812562, 47.505243, 45.4566767, 46.756563, 50.0256962, 46.6926406, 45.870888, 46.1722898, 45.7326055, 45.4418993, 45.6629572, 45.4794481, 48.450155, 47.8358164, 46.4097246, 48.514785, 45.6323155, 48.2420524, 48.405959, 46.743354, 46.7770445, 45.526246, 45.5256161, 45.410502, 46.04774, 45.7398754, 45.3724897, 45.953298, 46.046072, 47.0260796, 45.4092897, 49.1264098, 45.76417, 45.400642, 46.8443807, 45.5930624, 46.031296, 46.450395, 45.5295339, 45.6342923, 45.5646052, 48.654232, 46.31316395, 46.122987, 45.627484, 45.3056879, 45.775426, 46.310181, 46.0427507, 45.5016203, 45.3996015, 45.8524052, 46.6827033, 45.8879406, 46.961511, 47.5266271, 45.504903, 46.889058, 45.2591064, 45.894309, 46.729742, 45.2555625, 54.8005133, 45.5247549, 48.3921915, 50.2109579, 46.5389609, 45.403271, 46.044404, 45.0106604, 45.1109765, 46.71821, 47.684343, 45.7081005, 46.091329, 45.598185, 48.122101, 46.3507999, 45.4937347, 48.1023356, 45.776623, 45.6834691, 45.3971509, 46.0573705, 47.332308, 45.945659, 45.3441569, 45.277061, 45.4857329, 45.5697799]\n",
            "[-72.5654107, -71.651459, -78.1160856, -67.4315171, -68.152313, -73.9153643, -70.505447, -74.5746325, -73.8654387, -70.774269, -73.875834, -70.892029, -72.433205, -72.988701, -78.7042972, -73.2040066, -73.1747099, -73.87619, -73.8386827, -73.7562419, -65.4925807, -73.4526144, -72.5092346, -72.657394, -73.4678904, -74.4046061, -73.5163824, -66.6878834, -71.7751288, -73.3554902, -66.114087, -67.2269621, -73.2932002, -64.6783785, -74.8568112, -73.4896922220162, -73.7524319, -71.017685, -74.3713954, -70.2262202, -71.803479, -73.2374307, -71.6293885, -73.6637524, -74.1782005, -72.7479195, -72.0158562, -72.137604, -68.644638, -73.5413403, -71.949463, -73.9043321, -71.359978, -72.233734, -73.8064547, -71.73008, -73.7510888, -72.5018764, -72.800903, -79.2224096, -71.6594817, -74.020411, -72.974968, -67.0845797, -69.088211, -71.6185, -65.7527778, -75.6813728, -76.0531906, -72.721834, -64.63870582930107, -73.6469908, -74.150848, -74.173851, -73.4419936, -72.069283, -73.8647559, -70.153885, -70.035095, -73.4891432, -79.2010223, -71.401757, -74.3401388, -70.88667465580902, -71.6450972, -71.734543, -71.3584717, -73.4222086, -73.73441730569056, -73.282242, -76.9808367, -73.48463299084608, -73.804535, -71.1753274, -74.0218419, -73.952751, -73.4467466, -73.7887505, -72.947502, -79.0011559, -72.147903, -78.125153, -75.9805734, -73.1637449, -73.6005591, -77.64065878192258, -67.5295977, -73.746051, -71.871872, -67.993011, -74.012489, -68.183899, -75.4968899, -70.555916, -73.6442548, -73.4977437, -73.1918864, -74.5891426, -73.5903112, -65.4958491, -71.584854, -65.8655584, -72.6191889, -72.529678, -73.902969, -73.4351195, -73.2020384, -65.28781445337579, -64.2136423, -73.986053, -71.852519, -69.26495068615695, -73.8067442, -71.697807, -66.8818986, -71.8853205, -74.073601, -71.8751852, -73.4528307, -73.2500193, -72.1411906, -74.3019608, -68.529968, -69.5368025, -74.8704671, -72.224808, -73.8052338, -79.0205378, -71.069183, -71.4569733, -71.84951121905509, -73.2876515, -73.3391798, -73.00415, -73.46283, -74.1378332, -73.5704589, -74.136086, -74.279938, -70.9253362, -73.9461485, -66.4855806, -73.818855, -73.5756074, -71.615023, -73.3395943, -74.057121, -71.030731, -73.9326476, -73.8362379, -73.8929714, -72.448654, -73.38079209434733, -70.671959, -72.940636, -73.2533401, -74.013176, -70.877953, -73.1278544, -73.5102981, -74.1359184, -73.7586793, -72.049608, -73.1504791, -69.78035, -69.8074463, -72.905273, -71.835136, -73.6188315, -74.158058, -72.562294, -74.1316153, -66.820626, -71.276666, -77.2442596, -66.3790642, -72.7467621, -71.889038, -73.104744, -72.0972499, -72.6177899, -79.101562, -68.883591, -73.6515157, -71.30127, -75.246048, -69.169922, -72.5571257, -72.3151116, -77.7875715, -71.932297, -73.4362737, -74.0254577, -71.9536674, -79.438019, -71.990662, -72.5162169, -71.890755, -73.5963951, -72.0034954]\n"
          ],
          "name": "stdout"
        }
      ]
    },
    {
      "cell_type": "code",
      "metadata": {
        "colab": {
          "base_uri": "https://localhost:8080/",
          "height": 402
        },
        "id": "cfBDRBGPTM7W",
        "outputId": "6d24de76-bf82-4fbc-d558-f946d7382051"
      },
      "source": [
        "df_town['Latitude']=town_latitude\n",
        "df_town"
      ],
      "execution_count": null,
      "outputs": [
        {
          "output_type": "execute_result",
          "data": {
            "text/html": [
              "<div>\n",
              "<style scoped>\n",
              "    .dataframe tbody tr th:only-of-type {\n",
              "        vertical-align: middle;\n",
              "    }\n",
              "\n",
              "    .dataframe tbody tr th {\n",
              "        vertical-align: top;\n",
              "    }\n",
              "\n",
              "    .dataframe thead th {\n",
              "        text-align: right;\n",
              "    }\n",
              "</style>\n",
              "<table border=\"1\" class=\"dataframe\">\n",
              "  <thead>\n",
              "    <tr style=\"text-align: right;\">\n",
              "      <th></th>\n",
              "      <th>Name</th>\n",
              "      <th>Region</th>\n",
              "      <th>Latitude</th>\n",
              "      <th>Longitude</th>\n",
              "    </tr>\n",
              "  </thead>\n",
              "  <tbody>\n",
              "    <tr>\n",
              "      <th>0</th>\n",
              "      <td>Acton Vale</td>\n",
              "      <td>Montérégie</td>\n",
              "      <td>45.647156</td>\n",
              "      <td>-72.565411</td>\n",
              "    </tr>\n",
              "    <tr>\n",
              "      <th>1</th>\n",
              "      <td>Alma</td>\n",
              "      <td>Saguenay–Lac-Saint-Jean</td>\n",
              "      <td>48.548887</td>\n",
              "      <td>-71.651459</td>\n",
              "    </tr>\n",
              "    <tr>\n",
              "      <th>2</th>\n",
              "      <td>Amos</td>\n",
              "      <td>Abitibi-Témiscamingue</td>\n",
              "      <td>48.571852</td>\n",
              "      <td>-78.116086</td>\n",
              "    </tr>\n",
              "    <tr>\n",
              "      <th>3</th>\n",
              "      <td>Amqui</td>\n",
              "      <td>Bas-Saint-Laurent</td>\n",
              "      <td>48.465671</td>\n",
              "      <td>-67.431517</td>\n",
              "    </tr>\n",
              "    <tr>\n",
              "      <th>4</th>\n",
              "      <td>Baie-Comeau</td>\n",
              "      <td>Côte-Nord</td>\n",
              "      <td>49.217597</td>\n",
              "      <td>-68.152313</td>\n",
              "    </tr>\n",
              "    <tr>\n",
              "      <th>...</th>\n",
              "      <td>...</td>\n",
              "      <td>...</td>\n",
              "      <td>...</td>\n",
              "      <td>...</td>\n",
              "    </tr>\n",
              "    <tr>\n",
              "      <th>215</th>\n",
              "      <td>Warwick</td>\n",
              "      <td>Centre-du-Québec</td>\n",
              "      <td>45.945659</td>\n",
              "      <td>-71.990662</td>\n",
              "    </tr>\n",
              "    <tr>\n",
              "      <th>216</th>\n",
              "      <td>Waterloo</td>\n",
              "      <td>Montérégie</td>\n",
              "      <td>45.344157</td>\n",
              "      <td>-72.516217</td>\n",
              "    </tr>\n",
              "    <tr>\n",
              "      <th>217</th>\n",
              "      <td>Waterville</td>\n",
              "      <td>Estrie</td>\n",
              "      <td>45.277061</td>\n",
              "      <td>-71.890755</td>\n",
              "    </tr>\n",
              "    <tr>\n",
              "      <th>218</th>\n",
              "      <td>Westmount</td>\n",
              "      <td>Montréal</td>\n",
              "      <td>45.485733</td>\n",
              "      <td>-73.596395</td>\n",
              "    </tr>\n",
              "    <tr>\n",
              "      <th>219</th>\n",
              "      <td>Windsor</td>\n",
              "      <td>Estrie</td>\n",
              "      <td>45.569780</td>\n",
              "      <td>-72.003495</td>\n",
              "    </tr>\n",
              "  </tbody>\n",
              "</table>\n",
              "<p>220 rows × 4 columns</p>\n",
              "</div>"
            ],
            "text/plain": [
              "            Name                   Region   Latitude  Longitude\n",
              "0     Acton Vale               Montérégie  45.647156 -72.565411\n",
              "1           Alma  Saguenay–Lac-Saint-Jean  48.548887 -71.651459\n",
              "2           Amos    Abitibi-Témiscamingue  48.571852 -78.116086\n",
              "3          Amqui        Bas-Saint-Laurent  48.465671 -67.431517\n",
              "4    Baie-Comeau                Côte-Nord  49.217597 -68.152313\n",
              "..           ...                      ...        ...        ...\n",
              "215      Warwick         Centre-du-Québec  45.945659 -71.990662\n",
              "216     Waterloo               Montérégie  45.344157 -72.516217\n",
              "217   Waterville                   Estrie  45.277061 -71.890755\n",
              "218    Westmount                 Montréal  45.485733 -73.596395\n",
              "219      Windsor                   Estrie  45.569780 -72.003495\n",
              "\n",
              "[220 rows x 4 columns]"
            ]
          },
          "metadata": {
            "tags": []
          },
          "execution_count": 29
        }
      ]
    },
    {
      "cell_type": "code",
      "metadata": {
        "id": "glSbYHJXTM7W",
        "colab": {
          "base_uri": "https://localhost:8080/",
          "height": 402
        },
        "outputId": "e53cb05e-e6fc-4b21-f376-ffd20ec84d01"
      },
      "source": [
        "df_town['Longitude']=town_longitude\n",
        "df_town"
      ],
      "execution_count": null,
      "outputs": [
        {
          "output_type": "execute_result",
          "data": {
            "text/html": [
              "<div>\n",
              "<style scoped>\n",
              "    .dataframe tbody tr th:only-of-type {\n",
              "        vertical-align: middle;\n",
              "    }\n",
              "\n",
              "    .dataframe tbody tr th {\n",
              "        vertical-align: top;\n",
              "    }\n",
              "\n",
              "    .dataframe thead th {\n",
              "        text-align: right;\n",
              "    }\n",
              "</style>\n",
              "<table border=\"1\" class=\"dataframe\">\n",
              "  <thead>\n",
              "    <tr style=\"text-align: right;\">\n",
              "      <th></th>\n",
              "      <th>Name</th>\n",
              "      <th>Region</th>\n",
              "      <th>Latitude</th>\n",
              "      <th>Longitude</th>\n",
              "    </tr>\n",
              "  </thead>\n",
              "  <tbody>\n",
              "    <tr>\n",
              "      <th>0</th>\n",
              "      <td>Acton Vale</td>\n",
              "      <td>Montérégie</td>\n",
              "      <td>45.647156</td>\n",
              "      <td>-72.565411</td>\n",
              "    </tr>\n",
              "    <tr>\n",
              "      <th>1</th>\n",
              "      <td>Alma</td>\n",
              "      <td>Saguenay–Lac-Saint-Jean</td>\n",
              "      <td>48.548887</td>\n",
              "      <td>-71.651459</td>\n",
              "    </tr>\n",
              "    <tr>\n",
              "      <th>2</th>\n",
              "      <td>Amos</td>\n",
              "      <td>Abitibi-Témiscamingue</td>\n",
              "      <td>48.571852</td>\n",
              "      <td>-78.116086</td>\n",
              "    </tr>\n",
              "    <tr>\n",
              "      <th>3</th>\n",
              "      <td>Amqui</td>\n",
              "      <td>Bas-Saint-Laurent</td>\n",
              "      <td>48.465671</td>\n",
              "      <td>-67.431517</td>\n",
              "    </tr>\n",
              "    <tr>\n",
              "      <th>4</th>\n",
              "      <td>Baie-Comeau</td>\n",
              "      <td>Côte-Nord</td>\n",
              "      <td>49.217597</td>\n",
              "      <td>-68.152313</td>\n",
              "    </tr>\n",
              "    <tr>\n",
              "      <th>...</th>\n",
              "      <td>...</td>\n",
              "      <td>...</td>\n",
              "      <td>...</td>\n",
              "      <td>...</td>\n",
              "    </tr>\n",
              "    <tr>\n",
              "      <th>215</th>\n",
              "      <td>Warwick</td>\n",
              "      <td>Centre-du-Québec</td>\n",
              "      <td>45.945659</td>\n",
              "      <td>-71.990662</td>\n",
              "    </tr>\n",
              "    <tr>\n",
              "      <th>216</th>\n",
              "      <td>Waterloo</td>\n",
              "      <td>Montérégie</td>\n",
              "      <td>45.344157</td>\n",
              "      <td>-72.516217</td>\n",
              "    </tr>\n",
              "    <tr>\n",
              "      <th>217</th>\n",
              "      <td>Waterville</td>\n",
              "      <td>Estrie</td>\n",
              "      <td>45.277061</td>\n",
              "      <td>-71.890755</td>\n",
              "    </tr>\n",
              "    <tr>\n",
              "      <th>218</th>\n",
              "      <td>Westmount</td>\n",
              "      <td>Montréal</td>\n",
              "      <td>45.485733</td>\n",
              "      <td>-73.596395</td>\n",
              "    </tr>\n",
              "    <tr>\n",
              "      <th>219</th>\n",
              "      <td>Windsor</td>\n",
              "      <td>Estrie</td>\n",
              "      <td>45.569780</td>\n",
              "      <td>-72.003495</td>\n",
              "    </tr>\n",
              "  </tbody>\n",
              "</table>\n",
              "<p>220 rows × 4 columns</p>\n",
              "</div>"
            ],
            "text/plain": [
              "            Name                   Region   Latitude  Longitude\n",
              "0     Acton Vale               Montérégie  45.647156 -72.565411\n",
              "1           Alma  Saguenay–Lac-Saint-Jean  48.548887 -71.651459\n",
              "2           Amos    Abitibi-Témiscamingue  48.571852 -78.116086\n",
              "3          Amqui        Bas-Saint-Laurent  48.465671 -67.431517\n",
              "4    Baie-Comeau                Côte-Nord  49.217597 -68.152313\n",
              "..           ...                      ...        ...        ...\n",
              "215      Warwick         Centre-du-Québec  45.945659 -71.990662\n",
              "216     Waterloo               Montérégie  45.344157 -72.516217\n",
              "217   Waterville                   Estrie  45.277061 -71.890755\n",
              "218    Westmount                 Montréal  45.485733 -73.596395\n",
              "219      Windsor                   Estrie  45.569780 -72.003495\n",
              "\n",
              "[220 rows x 4 columns]"
            ]
          },
          "metadata": {
            "tags": []
          },
          "execution_count": 30
        }
      ]
    },
    {
      "cell_type": "code",
      "metadata": {
        "colab": {
          "base_uri": "https://localhost:8080/"
        },
        "id": "hg-LW_MU91j7",
        "outputId": "7a881565-ce4a-45ec-ac63-587f3af188f3"
      },
      "source": [
        "#creating bag of words model \r\n",
        "BOW = df_town.iloc[1:, :].values \r\n",
        "print(BOW[:])"
      ],
      "execution_count": null,
      "outputs": [
        {
          "output_type": "stream",
          "text": [
            "[['Alma' 'Saguenay–Lac-Saint-Jean' 48.548887 -71.651459]\n",
            " ['Amos' 'Abitibi-Témiscamingue' 48.5718519 -78.1160856]\n",
            " ['Amqui' 'Bas-Saint-Laurent' 48.4656706 -67.4315171]\n",
            " ['Baie-Comeau' 'Côte-Nord' 49.217597 -68.152313]\n",
            " [\"Baie-D'Urfé\" 'Montréal' 45.4174258 -73.9153643]\n",
            " ['Baie-Saint-Paul' 'Capitale-Nationale' 47.444343 -70.505447]\n",
            " ['Barkmere' 'Laurentides' 46.0005197 -74.5746325]\n",
            " ['Beaconsfield' 'Montréal' 45.4289766 -73.8654387]\n",
            " ['Beauceville' 'Chaudière-Appalaches' 46.210725 -70.774269]\n",
            " ['Beauharnois' 'Montérégie' 45.3139778 -73.875834]\n",
            " ['Beaupré' 'Capitale-Nationale' 47.043926 -70.892029]\n",
            " ['Bécancour' 'Centre-du-Québec' 46.339343 -72.433205]\n",
            " ['Bedford' 'Montérégie' 45.120537 -72.988701]\n",
            " ['Belleterre' 'Abitibi-Témiscamingue' 47.3905166 -78.7042972]\n",
            " ['Beloeil' 'Montérégie' 45.5643183 -73.2040066]\n",
            " ['Berthierville' 'Lanaudière' 46.0828098 -73.1747099]\n",
            " ['Blainville' 'Laurentides' 45.67932 -73.87619]\n",
            " ['Boisbriand' 'Laurentides' 45.6130352 -73.8386827]\n",
            " ['Bois-des-Filion' 'Laurentides' 45.6713243 -73.7562419]\n",
            " ['Bonaventure' 'Gaspésie–Îles-de-la-Madeleine' 48.0444351 -65.4925807]\n",
            " ['Boucherville' 'Montérégie' 45.6050197 -73.4526144]\n",
            " ['Lac-Brome' 'Montérégie' 45.219192 -72.5092346]\n",
            " ['Bromont' 'Montérégie' 45.318116 -72.657394]\n",
            " ['Brossard' 'Montérégie' 45.4554829 -73.4678904]\n",
            " ['Brownsburg-Chatham' 'Laurentides' 45.676516 -74.4046061]\n",
            " ['Candiac' 'Montérégie' 45.3867947 -73.5163824]\n",
            " ['Cap-Chat' 'Gaspésie–Îles-de-la-Madeleine' 49.0959673 -66.6878834]\n",
            " ['Cap-Santé' 'Capitale-Nationale' 46.6701717 -71.7751288]\n",
            " ['Carignan' 'Montérégie' 45.437955 -73.3554902]\n",
            " ['Carleton-sur-Mer' 'Gaspésie–Îles-de-la-Madeleine' 48.1014497\n",
            "  -66.114087]\n",
            " ['Causapscal' 'Bas-Saint-Laurent' 48.3542375 -67.2269621]\n",
            " ['Chambly' 'Montérégie' 45.4473898 -73.2932002]\n",
            " ['Chandler' 'Gaspésie–Îles-de-la-Madeleine' 48.3485676 -64.6783785]\n",
            " ['Chapais' 'Nord-du-Québec' 49.783855 -74.8568112]\n",
            " ['Charlemagne' 'Lanaudière' 45.725519649999995 -73.4896922220162]\n",
            " ['Châteauguay' 'Montérégie' 45.3619066 -73.7524319]\n",
            " ['Château-Richer' 'Capitale-Nationale' 46.971117 -71.017685]\n",
            " ['Chibougamau' 'Nord-du-Québec' 49.9137407 -74.3713954]\n",
            " ['Clermont' 'Capitale-Nationale' 47.694512 -70.2262202]\n",
            " ['Coaticook' 'Estrie' 45.1334169 -71.803479]\n",
            " ['Contrecoeur' 'Montérégie' 45.8573781 -73.2374307]\n",
            " ['Cookshire-Eaton' 'Estrie' 45.4124593 -71.6293885]\n",
            " ['Côte Saint-Luc' 'Montréal' 45.4772716 -73.6637524]\n",
            " ['Coteau-du-Lac' 'Montérégie' 45.2963957 -74.1782005]\n",
            " ['Cowansville' 'Montérégie' 45.2076125 -72.7479195]\n",
            " ['Danville' 'Estrie' 45.785278 -72.0158562]\n",
            " ['Daveluyville' 'Centre-du-Québec' 46.20431 -72.137604]\n",
            " ['Dégelis' 'Bas-Saint-Laurent' 47.547799 -68.644638]\n",
            " ['Delson' 'Montérégie' 45.3749509 -73.5413403]\n",
            " ['Desbiens' 'Saguenay–Lac-Saint-Jean' 48.417809 -71.949463]\n",
            " ['Deux-Montagnes' 'Laurentides' 45.5372581 -73.9043321]\n",
            " ['Disraeli' 'Chaudière-Appalaches' 45.904822 -71.359978]\n",
            " ['Dolbeau-Mistassini' 'Saguenay–Lac-Saint-Jean' 48.883231 -72.233734]\n",
            " ['Dollard-des-Ormeaux' 'Montréal' 45.48423 -73.8064547]\n",
            " ['Donnacona' 'Capitale-Nationale' 46.676532 -71.73008]\n",
            " ['Dorval' 'Montréal' 45.4453082 -73.7510888]\n",
            " ['Drummondville' 'Centre-du-Québec' 45.8864303 -72.5018764]\n",
            " ['Dunham' 'Montérégie' 45.130469 -72.800903]\n",
            " ['Duparquet' 'Abitibi-Témiscamingue' 48.5026134 -79.2224096]\n",
            " ['East Angus' 'Estrie' 45.4828558 -71.6594817]\n",
            " ['Estérel' 'Laurentides' 46.0423647 -74.020411]\n",
            " ['Farnham' 'Montérégie' 45.2831 -72.974968]\n",
            " ['Fermont' 'Côte-Nord' 52.7931065 -67.0845797]\n",
            " ['Forestville' 'Côte-Nord' 48.739437 -69.088211]\n",
            " ['Fossambault-sur-le-Lac' 'Capitale-Nationale' 46.871928 -71.6185]\n",
            " ['Gaspé' 'Gaspésie–Îles-de-la-Madeleine' 48.6580556 -65.7527778]\n",
            " ['Gatineau' 'Outaouais' 45.4841214 -75.6813728]\n",
            " ['Gracefield' 'Outaouais' 46.0933721 -76.0531906]\n",
            " ['Granby' 'Montérégie' 45.3990409 -72.721834]\n",
            " ['Grande-Rivière' 'Gaspésie–Îles-de-la-Madeleine' 48.5347749\n",
            "  -64.63870582930107]\n",
            " ['Hampstead' 'Montréal' 45.4811545 -73.6469908]\n",
            " ['Hudson' 'Montérégie' 45.464465 -74.150848]\n",
            " ['Huntingdon' 'Montérégie' 45.087339 -74.173851]\n",
            " ['Joliette' 'Lanaudière' 46.0239798 -73.4419936]\n",
            " ['Kingsey Falls' 'Centre-du-Québec' 45.857978 -72.069283]\n",
            " ['Kirkland' 'Montréal' 45.4529194 -73.8647559]\n",
            " ['La Malbaie' 'Capitale-Nationale' 47.657525 -70.153885]\n",
            " ['La Pocatière' 'Bas-Saint-Laurent' 47.369524 -70.035095]\n",
            " ['La Prairie' 'Montérégie' 45.4175472 -73.4891432]\n",
            " ['La Sarre' 'Abitibi-Témiscamingue' 48.8000956 -79.2010223]\n",
            " ['Lac-Delage' 'Capitale-Nationale' 46.9706256 -71.401757]\n",
            " ['Lachute' 'Laurentides' 45.6560478 -74.3401388]\n",
            " ['Lac-Mégantic' 'Estrie' 45.5905023 -70.88667465580902]\n",
            " ['Lac-Saint-Joseph' 'Capitale-Nationale' 46.9361368 -71.6450972]\n",
            " ['Lac-Sergent' 'Capitale-Nationale' 46.858548 -71.734543]\n",
            " [\"L'Ancienne-Lorette\" 'Capitale-Nationale' 46.8063745 -71.3584717]\n",
            " [\"L'Assomption\" 'Lanaudière' 45.8307051 -73.4222086]\n",
            " ['Laval' 'Laval' 45.60558895 -73.73441730569056]\n",
            " ['Lavaltrie' 'Lanaudière' 45.883078 -73.282242]\n",
            " ['Lebel-sur-Quévillon' 'Nord-du-Québec' 49.0531411 -76.9808367]\n",
            " [\"L'Épiphanie\" 'Lanaudière' 45.8496816 -73.48463299084608]\n",
            " ['Léry' 'Montérégie' 45.3465166 -73.804535]\n",
            " ['Lévis' 'Chaudière-Appalaches' 46.7910096 -71.1753274]\n",
            " [\"L'Île-Cadieux\" 'Montérégie' 45.4313481 -74.0218419]\n",
            " [\"L'Île-Perrot\" 'Montérégie' 45.393146 -73.952751]\n",
            " ['Longueuil' 'Montérégie' 45.5172382 -73.4467466]\n",
            " ['Lorraine' 'Laurentides' 45.6704733 -73.7887505]\n",
            " ['Louiseville' 'Mauricie' 46.255609 -72.947502]\n",
            " ['Macamic' 'Abitibi-Témiscamingue' 48.7554185 -79.0011559]\n",
            " ['Magog' 'Estrie' 45.265463 -72.147903]\n",
            " ['Malartic' 'Abitibi-Témiscamingue' 48.137225 -78.125153]\n",
            " ['Maniwaki' 'Outaouais' 46.3781464 -75.9805734]\n",
            " ['Marieville' 'Montérégie' 45.4314173 -73.1637449]\n",
            " ['Mascouche' 'Lanaudière' 45.7453521 -73.6005591]\n",
            " ['Matagami' 'Nord-du-Québec' 49.754138100000006 -77.64065878192258]\n",
            " ['Matane' 'Bas-Saint-Laurent' 48.8468633 -67.5295977]\n",
            " ['Mercier' 'Montérégie' 45.310444 -73.746051]\n",
            " ['Métabetchouan–Lac-à-la-Croix' 'Saguenay–Lac-Saint-Jean' 48.429201\n",
            "  -71.871872]\n",
            " ['Métis-sur-Mer' 'Bas-Saint-Laurent' 48.675093 -67.993011]\n",
            " ['Mirabel' 'Laurentides' 45.623402 -74.012489]\n",
            " ['Mont-Joli' 'Bas-Saint-Laurent' 48.583875 -68.183899]\n",
            " ['Mont-Laurier' 'Laurentides' 46.5524071 -75.4968899]\n",
            " ['Montmagny' 'Chaudière-Appalaches' 46.9826328 -70.555916]\n",
            " ['Montreal West' 'Montréal' 45.452853 -73.6442548]\n",
            " ['Montréal-Est' 'Montréal' 45.6309797 -73.4977437]\n",
            " ['Mont-Saint-Hilaire' 'Montérégie' 45.5623512 -73.1918864]\n",
            " ['Mont-Tremblant' 'Laurentides' 46.11588 -74.5891426]\n",
            " ['Mount Royal' 'Montréal' 45.5086157 -73.5903112]\n",
            " ['Murdochville' 'Gaspésie–Îles-de-la-Madeleine' 48.9602586 -65.4958491]\n",
            " ['Neuville' 'Capitale-Nationale' 46.698199 -71.584854]\n",
            " ['New Richmond' 'Gaspésie–Îles-de-la-Madeleine' 48.1651194 -65.8655584]\n",
            " ['Nicolet' 'Centre-du-Québec' 46.2273284 -72.6191889]\n",
            " ['Normandin' 'Saguenay–Lac-Saint-Jean' 48.837153 -72.529678]\n",
            " [\"Notre-Dame-de-l'Île-Perrot\" 'Montérégie' 45.351663 -73.902969]\n",
            " ['Notre-Dame-des-Prairies' 'Lanaudière' 46.0421555 -73.4351195]\n",
            " ['Otterburn Park' 'Montérégie' 45.5425651 -73.2020384]\n",
            " ['Paspébiac' 'Gaspésie–Îles-de-la-Madeleine' 48.096866199999994\n",
            "  -65.28781445337579]\n",
            " ['Percé' 'Gaspésie–Îles-de-la-Madeleine' 48.5222989 -64.2136423]\n",
            " ['Pincourt' 'Montérégie' 45.371202 -73.986053]\n",
            " ['Plessisville' 'Centre-du-Québec' 46.3812562 -71.852519]\n",
            " ['Pohénégamook' 'Bas-Saint-Laurent' 47.505243 -69.26495068615695]\n",
            " ['Pointe-Claire' 'Montréal' 45.4566767 -73.8067442]\n",
            " ['Pont-Rouge' 'Capitale-Nationale' 46.756563 -71.697807]\n",
            " ['Port-Cartier' 'Côte-Nord' 50.0256962 -66.8818986]\n",
            " ['Portneuf' 'Capitale-Nationale' 46.6926406 -71.8853205]\n",
            " ['Prévost' 'Laurentides' 45.870888 -74.073601]\n",
            " ['Princeville' 'Centre-du-Québec' 46.1722898 -71.8751852]\n",
            " ['Repentigny' 'Lanaudière' 45.7326055 -73.4528307]\n",
            " ['Richelieu' 'Montérégie' 45.4418993 -73.2500193]\n",
            " ['Richmond' 'Estrie' 45.6629572 -72.1411906]\n",
            " ['Rigaud' 'Montérégie' 45.4794481 -74.3019608]\n",
            " ['Rimouski' 'Bas-Saint-Laurent' 48.450155 -68.529968]\n",
            " ['Rivière-du-Loup' 'Bas-Saint-Laurent' 47.8358164 -69.5368025]\n",
            " ['Rivière-Rouge' 'Laurentides' 46.4097246 -74.8704671]\n",
            " ['Roberval' 'Saguenay–Lac-Saint-Jean' 48.514785 -72.224808]\n",
            " ['Rosemère' 'Laurentides' 45.6323155 -73.8052338]\n",
            " ['Rouyn-Noranda' 'Abitibi-Témiscamingue' 48.2420524 -79.0205378]\n",
            " ['Saguenay' 'Saguenay–Lac-Saint-Jean' 48.405959 -71.069183]\n",
            " ['Saint-Augustin-de-Desmaures' 'Capitale-Nationale' 46.743354\n",
            "  -71.4569733]\n",
            " ['Saint-Basile' 'Capitale-Nationale' 46.7770445 -71.84951121905509]\n",
            " ['Saint-Basile-le-Grand' 'Montérégie' 45.526246 -73.2876515]\n",
            " ['Saint-Bruno-de-Montarville' 'Montérégie' 45.5256161 -73.3391798]\n",
            " ['Saint-Césaire' 'Montérégie' 45.410502 -73.00415]\n",
            " ['Saint-Charles-Borromée' 'Lanaudière' 46.04774 -73.46283]\n",
            " ['Saint-Colomban' 'Laurentides' 45.7398754 -74.1378332]\n",
            " ['Saint-Constant' 'Montérégie' 45.3724897 -73.5704589]\n",
            " ['Sainte-Adèle' 'Laurentides' 45.953298 -74.136086]\n",
            " ['Sainte-Agathe-des-Monts' 'Laurentides' 46.046072 -74.279938]\n",
            " ['Sainte-Anne-de-Beaupré' 'Capitale-Nationale' 47.0260796 -70.9253362]\n",
            " ['Sainte-Anne-de-Bellevue' 'Montréal' 45.4092897 -73.9461485]\n",
            " ['Sainte-Anne-des-Monts' 'Gaspésie–Îles-de-la-Madeleine' 49.1264098\n",
            "  -66.4855806]\n",
            " ['Sainte-Anne-des-Plaines' 'Laurentides' 45.76417 -73.818855]\n",
            " ['Sainte-Catherine' 'Montérégie' 45.400642 -73.5756074]\n",
            " ['Sainte-Catherine-de-la-Jacques-Cartier' 'Capitale-Nationale'\n",
            "  46.8443807 -71.615023]\n",
            " ['Sainte-Julie' 'Montérégie' 45.5930624 -73.3395943]\n",
            " ['Sainte-Marguerite-du-Lac-Masson' 'Laurentides' 46.031296 -74.057121]\n",
            " ['Sainte-Marie' 'Chaudière-Appalaches' 46.450395 -71.030731]\n",
            " ['Sainte-Marthe-sur-le-Lac' 'Laurentides' 45.5295339 -73.9326476]\n",
            " ['Sainte-Thérèse' 'Laurentides' 45.6342923 -73.8362379]\n",
            " ['Saint-Eustache' 'Laurentides' 45.5646052 -73.8929714]\n",
            " ['Saint-Félicien' 'Saguenay–Lac-Saint-Jean' 48.654232 -72.448654]\n",
            " ['Saint-Gabriel' 'Lanaudière' 46.31316395 -73.38079209434733]\n",
            " ['Saint-Georges' 'Chaudière-Appalaches' 46.122987 -70.671959]\n",
            " ['Saint-Hyacinthe' 'Montérégie' 45.627484 -72.940636]\n",
            " ['Saint-Jean-sur-Richelieu' 'Montérégie' 45.3056879 -73.2533401]\n",
            " ['Saint-Jérôme' 'Laurentides' 45.775426 -74.013176]\n",
            " ['Saint-Joseph-de-Beauce' 'Chaudière-Appalaches' 46.310181 -70.877953]\n",
            " ['Saint-Joseph-de-Sorel' 'Montérégie' 46.0427507 -73.1278544]\n",
            " ['Saint-Lambert' 'Montérégie' 45.5016203 -73.5102981]\n",
            " ['Saint-Lazare' 'Montérégie' 45.3996015 -74.1359184]\n",
            " ['Saint-Lin-Laurentides' 'Lanaudière' 45.8524052 -73.7586793]\n",
            " ['Saint-Marc-des-Carrières' 'Capitale-Nationale' 46.6827033 -72.049608]\n",
            " ['Saint-Ours' 'Montérégie' 45.8879406 -73.1504791]\n",
            " ['Saint-Pamphile' 'Chaudière-Appalaches' 46.961511 -69.78035]\n",
            " ['Saint-Pascal' 'Bas-Saint-Laurent' 47.5266271 -69.8074463]\n",
            " ['Saint-Pie' 'Montérégie' 45.504903 -72.905273]\n",
            " ['Saint-Raymond' 'Capitale-Nationale' 46.889058 -71.835136]\n",
            " ['Saint-Rémi' 'Montérégie' 45.2591064 -73.6188315]\n",
            " ['Saint-Sauveur' 'Laurentides' 45.894309 -74.158058]\n",
            " ['Saint-Tite' 'Mauricie' 46.729742 -72.562294]\n",
            " ['Salaberry-de-Valleyfield' 'Montérégie' 45.2555625 -74.1316153]\n",
            " ['Schefferville' 'Côte-Nord' 54.8005133 -66.820626]\n",
            " ['Scotstown' 'Estrie' 45.5247549 -71.276666]\n",
            " ['Senneterre' 'Abitibi-Témiscamingue' 48.3921915 -77.2442596]\n",
            " ['Sept-Îles' 'Côte-Nord' 50.2109579 -66.3790642]\n",
            " ['Shawinigan' 'Mauricie' 46.5389609 -72.7467621]\n",
            " ['Sherbrooke' 'Estrie' 45.403271 -71.889038]\n",
            " ['Sorel-Tracy' 'Montérégie' 46.044404 -73.104744]\n",
            " ['Stanstead' 'Estrie' 45.0106604 -72.0972499]\n",
            " ['Sutton' 'Montérégie' 45.1109765 -72.6177899]\n",
            " ['Témiscaming' 'Abitibi-Témiscamingue' 46.71821 -79.101562]\n",
            " ['Témiscouata-sur-le-Lac' 'Bas-Saint-Laurent' 47.684343 -68.883591]\n",
            " ['Terrebonne' 'Lanaudière' 45.7081005 -73.6515157]\n",
            " ['Thetford Mines' 'Chaudière-Appalaches' 46.091329 -71.30127]\n",
            " ['Thurso' 'Outaouais' 45.598185 -75.246048]\n",
            " ['Trois-Pistoles' 'Bas-Saint-Laurent' 48.122101 -69.169922]\n",
            " ['Trois-Rivières' 'Mauricie' 46.3507999 -72.5571257]\n",
            " ['Valcourt' 'Estrie' 45.4937347 -72.3151116]\n",
            " [\"Val-d'Or\" 'Abitibi-Témiscamingue' 48.1023356 -77.7875715]\n",
            " ['Val-des-Sources' 'Estrie' 45.776623 -71.932297]\n",
            " ['Varennes' 'Montérégie' 45.6834691 -73.4362737]\n",
            " ['Vaudreuil-Dorion' 'Montérégie' 45.3971509 -74.0254577]\n",
            " ['Victoriaville' 'Centre-du-Québec' 46.0573705 -71.9536674]\n",
            " ['Ville-Marie' 'Abitibi-Témiscamingue' 47.332308 -79.438019]\n",
            " ['Warwick' 'Centre-du-Québec' 45.945659 -71.990662]\n",
            " ['Waterloo' 'Montérégie' 45.3441569 -72.5162169]\n",
            " ['Waterville' 'Estrie' 45.277061 -71.890755]\n",
            " ['Westmount' 'Montréal' 45.4857329 -73.5963951]\n",
            " ['Windsor' 'Estrie' 45.5697799 -72.0034954]]\n"
          ],
          "name": "stdout"
        }
      ]
    },
    {
      "cell_type": "markdown",
      "metadata": {
        "id": "m5tMWaX1TM7W"
      },
      "source": [
        "#### Now let's plot the cities in a map of Canada"
      ]
    },
    {
      "cell_type": "code",
      "metadata": {
        "id": "yVby9zX9TM7W",
        "colab": {
          "base_uri": "https://localhost:8080/",
          "height": 866
        },
        "outputId": "8af57f4c-a544-4d23-df6e-f0d02bf5803d"
      },
      "source": [
        "Quebec_lat=48.571852\n",
        "Quebec_lng=-79.201022\n",
        "\n",
        "map_Quebec = folium.Map(location=[Quebec_lat, Quebec_lng], zoom_start=6)\n",
        "\n",
        "for lat, lng, town, reg in zip(df_town['Latitude'], df_town['Longitude'], df_town['Name'],df_town['Region']):\n",
        "    label='{}, {}'.format(town, reg)\n",
        "    folium.Marker(location=[lat,lng]).add_to(map_Quebec)\n",
        "\n",
        "map_Quebec"
      ],
      "execution_count": null,
      "outputs": [
        {
          "output_type": "execute_result",
          "data": {
            "text/html": [
              "<div style=\"width:100%;\"><div style=\"position:relative;width:100%;height:0;padding-bottom:60%;\"><span style=\"color:#565656\">Make this Notebook Trusted to load map: File -> Trust Notebook</span><iframe src=\"about:blank\" style=\"position:absolute;width:100%;height:100%;left:0;top:0;border:none !important;\" data-html=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 onload=\"this.contentDocument.open();this.contentDocument.write(atob(this.getAttribute('data-html')));this.contentDocument.close();\" allowfullscreen webkitallowfullscreen mozallowfullscreen></iframe></div></div>"
            ],
            "text/plain": [
              "<folium.folium.Map at 0x7f96d89a65f8>"
            ]
          },
          "metadata": {
            "tags": []
          },
          "execution_count": 32
        }
      ]
    },
    {
      "cell_type": "code",
      "metadata": {
        "id": "9aULAOlmTM7W"
      },
      "source": [
        "CLIENT_ID = '****'\n",
        "CLIENT_SECRET = '****'\n",
        "VERSION='20180325'\n",
        "LIMIT=5000\n",
        "RADIUS=5000"
      ],
      "execution_count": null,
      "outputs": []
    },
    {
      "cell_type": "code",
      "metadata": {
        "id": "ESnjLIhkTM7W"
      },
      "source": [
        "url='https://api.foursquare.com/v2/venues/explore?&client_id={}&client_secret={}&ll={},{}&v={}&limit={}&radius={}'.format(CLIENT_ID,CLIENT_SECRET,df_town.loc[0,\"Latitude\"],\n",
        "                                                                                            df_town.loc[0,\"Longitude\"],VERSION,LIMIT,RADIUS)"
      ],
      "execution_count": null,
      "outputs": []
    },
    {
      "cell_type": "code",
      "metadata": {
        "id": "aMOs5CrfTM7W",
        "colab": {
          "base_uri": "https://localhost:8080/"
        },
        "outputId": "d68e2a4d-8da3-4607-fca7-19749d5d7f19"
      },
      "source": [
        "result=requests.get(url).json()\n",
        "result"
      ],
      "execution_count": null,
      "outputs": [
        {
          "output_type": "execute_result",
          "data": {
            "text/plain": [
              "{'meta': {'code': 429,\n",
              "  'errorDetail': 'Quota exceeded',\n",
              "  'errorType': 'quota_exceeded',\n",
              "  'requestId': '5fecb53176cf540ef12fa326'},\n",
              " 'response': {}}"
            ]
          },
          "metadata": {
            "tags": []
          },
          "execution_count": 38
        }
      ]
    },
    {
      "cell_type": "code",
      "metadata": {
        "id": "laflkYvMTM7W"
      },
      "source": [
        "LIMIT=400\n",
        "def getNearbyVenues(names, latitudes, longitudes, radius=2000):\n",
        "    venues_list=[]\n",
        "    for name, lat, lng in zip(names, latitudes, longitudes):\n",
        "      print(name)\n",
        "      url = 'https://api.foursquare.com/v2/venues/explore?&client_id={}&client_secret={}&v={}&ll={},{}&radius={}&limit={}'.format(\n",
        "            CLIENT_ID, \n",
        "            CLIENT_SECRET, \n",
        "            VERSION, \n",
        "            lat, \n",
        "            lng, \n",
        "            radius, \n",
        "            LIMIT)\n",
        "      try:\n",
        "            results=requests.get(url).json()['response']['groups'][0]['items']\n",
        "      except:\n",
        "        continue;\n",
        "        venues_list.append([(\n",
        "        name, \n",
        "        lat, \n",
        "        lng,\n",
        "        v['venue']['name'],\n",
        "        v['venue']['location']['lat'],\n",
        "        v['venue']['location']['lng'],\n",
        "        v['venue']['categories'][0]['name']) for v in results])\n",
        "        \n",
        "    nearby_venues = pd.DataFrame([item for venue_list in venues_list for item in venue_list])\n",
        "    nearby_venues.columns = ['Neighborhood', \n",
        "                  'Neighborhood Latitude', \n",
        "                  'Neighborhood Longitude', \n",
        "                  'Venue', \n",
        "                  'Venue Latitude', \n",
        "                  'Venue Longitude', \n",
        "                  'Venue Category']\n",
        "    \n",
        "    return(nearby_venues)"
      ],
      "execution_count": null,
      "outputs": []
    },
    {
      "cell_type": "markdown",
      "metadata": {
        "id": "8wy8vXvuTM7W"
      },
      "source": [
        "#### Let's get all the venues in the towns of Quebec"
      ]
    },
    {
      "cell_type": "code",
      "metadata": {
        "id": "8XqrbWXVTM7W"
      },
      "source": [
        "Quebec_venues = getNearbyVenues(names=df_town['Name'],latitudes=df_town['Latitude'],longitudes=df_town['Longitude'])"
      ],
      "execution_count": null,
      "outputs": []
    },
    {
      "cell_type": "code",
      "metadata": {
        "id": "PCw-E3iuTM7X"
      },
      "source": [
        "Quebec_venues"
      ],
      "execution_count": null,
      "outputs": []
    },
    {
      "cell_type": "code",
      "metadata": {
        "id": "ec3axCZNOT-8"
      },
      "source": [
        "Quebec_venues.groupby(\"Neighborhood\").count()"
      ],
      "execution_count": null,
      "outputs": []
    },
    {
      "cell_type": "code",
      "metadata": {
        "id": "UHzjpKHoOky-"
      },
      "source": [
        "Quebec_venues.groupby(\"Venue Category\").count()"
      ],
      "execution_count": null,
      "outputs": []
    },
    {
      "cell_type": "code",
      "metadata": {
        "id": "MeEBM66SO4EU"
      },
      "source": [
        "#One hot encoding of categorical features \r\n",
        "Quebec_onehot=pd.get_dummies(Quebec_venues[['Venue Category']], prefix_sep=\"\")\r\n",
        "#Quebec_onehot.drop(\"Neighborhood\", axis=1, inplace=True)\r\n",
        "Quebec_onehot['Neighborhood']=Quebec_venues['Neighborhood']\r\n",
        "\r\n",
        "fixed_columns=[Quebec_onehot.columns[-1]]+list(Quebec_onehot.columns[:-1])\r\n",
        "Quebec_onehot=Quebec_onehot[fixed_columns]\r\n",
        "Quebec_onehot"
      ],
      "execution_count": null,
      "outputs": []
    },
    {
      "cell_type": "code",
      "metadata": {
        "id": "OCOy76kdPVuO"
      },
      "source": [
        "#re-ordering indexes\r\n",
        "Quebec_grouped=Quebec_onehot.groupby(\"Neighborhood\").mean().reset_index()\r\n",
        "Quebec_grouped"
      ],
      "execution_count": null,
      "outputs": []
    },
    {
      "cell_type": "code",
      "metadata": {
        "id": "S3rcZYpJPi3p"
      },
      "source": [
        "def top_common_venues(row, num_top_venues):\r\n",
        "    row_categories = row.iloc[1:]\r\n",
        "    row_categories_sorted = row_categories.sort_values(ascending=False)\r\n",
        "    \r\n",
        "    return row_categories_sorted.index.values[0:num_top_venues]"
      ],
      "execution_count": null,
      "outputs": []
    },
    {
      "cell_type": "markdown",
      "metadata": {
        "id": "bQ4ksvg3TM7Y"
      },
      "source": [
        "#### Let's find the top 10 venues in every neighborhood"
      ]
    },
    {
      "cell_type": "code",
      "metadata": {
        "id": "zbsWx-ifTM7Y"
      },
      "source": [
        "num_top_venues = 10\n",
        "indicators = ['st', 'nd', 'rd']\n",
        "\n",
        "columns = ['Neighborhood']\n",
        "for point in np.arange(num_top_venues):\n",
        "    try:\n",
        "        columns.append('{}{} Most Common Venue'.format(point+1, indicators[point]))\n",
        "    except:\n",
        "        columns.append('{}th Most Common Venue'.format(point+1))\n",
        "\n",
        "neighborhoods_venues_sorted = pd.DataFrame(columns=columns)\n",
        "neighborhoods_venues_sorted['Neighborhood'] = Quebec_grouped['Neighborhood']\n",
        "\n",
        "for point in np.arange(Quebec_grouped.shape[0]):\n",
        "    neighborhoods_venues_sorted.iloc[point, 1:] = top_common_venues(Quebec_grouped.iloc[point, :], num_top_venues)\n",
        "\n",
        "neighborhoods_venues_sorted"
      ],
      "execution_count": null,
      "outputs": []
    },
    {
      "cell_type": "markdown",
      "metadata": {
        "id": "OAisu_ftTM7Y"
      },
      "source": [
        "#### Let's cluster the neighborhoods"
      ]
    },
    {
      "cell_type": "code",
      "metadata": {
        "id": "e_R7CcmqTM7Y"
      },
      "source": [
        "kclusters = 3\n",
        "\n",
        "Quebec_grouped_clustering = Quebec_grouped.drop('Neighborhood', 1)\n",
        "kmeans = KMeans(n_clusters=kclusters, random_state=1234).fit(Quebec_grouped_clustering)"
      ],
      "execution_count": null,
      "outputs": []
    },
    {
      "cell_type": "code",
      "metadata": {
        "id": "XXJzvj7d0Lby"
      },
      "source": [
        "display(kmeans.cluster_centers_)"
      ],
      "execution_count": null,
      "outputs": []
    },
    {
      "cell_type": "code",
      "metadata": {
        "id": "lCA92H_xh3Nv"
      },
      "source": [
        "df_town.drop('Region',axis=1,inplace=True)"
      ],
      "execution_count": null,
      "outputs": []
    },
    {
      "cell_type": "code",
      "metadata": {
        "id": "rGefyGezTM7Y"
      },
      "source": [
        "df_town.rename(columns={\"Name\":\"Neighborhood\"}, inplace=True)\n",
        "df_town"
      ],
      "execution_count": null,
      "outputs": []
    },
    {
      "cell_type": "code",
      "metadata": {
        "id": "aNk9MYg6TM7Y"
      },
      "source": [
        "neighborhoods_venues_sorted.drop('Cluster Labels', axis=1, inplace=True)"
      ],
      "execution_count": null,
      "outputs": []
    },
    {
      "cell_type": "markdown",
      "metadata": {
        "id": "exv5YRr2TM7Y"
      },
      "source": [
        "#### Let's merge the main dataset with the most common venues"
      ]
    },
    {
      "cell_type": "code",
      "metadata": {
        "id": "uzgT3sotTM7Y"
      },
      "source": [
        "neighborhoods_venues_sorted.insert(0, 'Cluster Labels', kmeans.labels_.astype('int32'))\n",
        "neighborhoods_venues_sorted[\"Cluster Labels\"].dtype\n",
        "Quebec_merged = df_town\n",
        "\n",
        "Quebec_merged = Quebec_merged.join(neighborhoods_venues_sorted.set_index('Neighborhood'), on='Neighborhood')\n",
        "print(Quebec_merged.shape)"
      ],
      "execution_count": null,
      "outputs": []
    },
    {
      "cell_type": "code",
      "metadata": {
        "id": "jBlsOtTMTM7Y"
      },
      "source": [
        "Quebec_merged.reset_index(inplace=True)\n",
        "Quebec_merged.drop(\"index\",inplace=True, axis=1)\n",
        "Quebec_merged"
      ],
      "execution_count": null,
      "outputs": []
    },
    {
      "cell_type": "code",
      "metadata": {
        "id": "vg_wZVQWTM7Y"
      },
      "source": [
        "Quebec_merged.dropna()"
      ],
      "execution_count": null,
      "outputs": []
    },
    {
      "cell_type": "code",
      "metadata": {
        "id": "M2u4OdQDTM7Y"
      },
      "source": [
        "#checking missing values\n",
        "Quebec_merged = Quebec_merged[~Quebec_merged['Cluster Labels'].isnull()]\n",
        "Quebec_merged.shape"
      ],
      "execution_count": null,
      "outputs": []
    },
    {
      "cell_type": "markdown",
      "metadata": {
        "id": "HTKx6LozTM7Y"
      },
      "source": [
        "#### Now let's plot the areas in map with a colour assigned to each cluster"
      ]
    },
    {
      "cell_type": "code",
      "metadata": {
        "scrolled": true,
        "id": "AZr53hHYTM7Y"
      },
      "source": [
        "latitude=45.647156\n",
        "longitude=-72.565411\n",
        "\n",
        "map_clusters = folium.Map(location=[latitude, longitude], zoom_start=6)\n",
        "\n",
        "arg = np.arange(kclusters)\n",
        "rg = [i + arg + (i*arg)**2 for i in range(kclusters)]\n",
        "col_array = cm.rainbow(np.linspace(0, 1, len(rg)))\n",
        "rainbow = [colors.rgb2hex(i) for i in col_array]\n",
        "\n",
        "# add markers to the map\n",
        "markers_colors = []\n",
        "for lat, lng, ngh, cluster in zip(Quebec_merged['Latitude'], Quebec_merged['Longitude'], Quebec_merged['Neighborhood'], Quebec_merged['Cluster Labels']):\n",
        "    label = folium.Popup(str(ngh) + ' Cluster ' + str(cluster), parse_html=True)\n",
        "    folium.CircleMarker(\n",
        "        [lat, lng],\n",
        "        radius=5,\n",
        "        popup=label,\n",
        "        fill=True,\n",
        "        color=rainbow[int(cluster)-1],\n",
        "        fill_color=rainbow[int(cluster)-1],\n",
        "        fill_opacity=0.7).add_to(map_clusters)\n",
        "       \n",
        "map_clusters"
      ],
      "execution_count": null,
      "outputs": []
    },
    {
      "cell_type": "code",
      "metadata": {
        "id": "eEaucxkVTM7Y"
      },
      "source": [
        "cluster_1=Quebec_merged[Quebec_merged.loc[:,\"Cluster Labels\"]==0.0].reset_index(drop=True)\n",
        "cluster_1"
      ],
      "execution_count": null,
      "outputs": []
    },
    {
      "cell_type": "code",
      "metadata": {
        "id": "OIYckCc0TM7Y"
      },
      "source": [
        "cluster_2=Quebec_merged[Quebec_merged.loc[:,\"Cluster Labels\"]==1.0].reset_index(drop=True)\n",
        "cluster_2"
      ],
      "execution_count": null,
      "outputs": []
    },
    {
      "cell_type": "code",
      "metadata": {
        "id": "HvDzxfBdn8hP"
      },
      "source": [
        "cluster_3=Quebec_merged[Quebec_merged.loc[:,\"Cluster Labels\"]==2.0].reset_index(drop=True)\r\n",
        "cluster_3"
      ],
      "execution_count": null,
      "outputs": []
    },
    {
      "cell_type": "markdown",
      "metadata": {
        "id": "2uWxKNniTM7Y"
      },
      "source": [
        "### Let's analyze the two clusters"
      ]
    },
    {
      "cell_type": "code",
      "metadata": {
        "id": "B2srb7uzTM7Y"
      },
      "source": [
        "cluster_1.groupby(\"1st Most Common Venue\").count().sort_values(by=\"Neighborhood\",ascending=False)"
      ],
      "execution_count": null,
      "outputs": []
    },
    {
      "cell_type": "markdown",
      "metadata": {
        "id": "crBsTUKTTM7Z"
      },
      "source": [
        "#### The most frequent \"1st most common venue in first cluster is Grocery Store\" followed by \"Fast Food restaurant\" and \"Liquor Store\". This is also the similar to findings in 2nd most common venues too"
      ]
    },
    {
      "cell_type": "code",
      "metadata": {
        "id": "Q41j88XkTM7Z"
      },
      "source": [
        "cluster_1.groupby(\"2nd Most Common Venue\").count().sort_values(by=\"Neighborhood\",ascending=False)"
      ],
      "execution_count": null,
      "outputs": []
    },
    {
      "cell_type": "markdown",
      "metadata": {
        "id": "hrmUyEylTM7Z"
      },
      "source": [
        "#### Gym and Fitness Center and shopping malls are also popular in cluster 1"
      ]
    },
    {
      "cell_type": "code",
      "metadata": {
        "id": "qy1J2W_BTM7Z"
      },
      "source": [
        "cluster_1.groupby(\"6th Most Common Venue\").count().sort_values(by=\"Neighborhood\",ascending=False)"
      ],
      "execution_count": null,
      "outputs": []
    },
    {
      "cell_type": "markdown",
      "metadata": {
        "id": "cDALgANITM7Z"
      },
      "source": [
        "#### Fireworks Store and Fish & Chips Shops seems to have taken 10th most frequent available places in Quebec"
      ]
    },
    {
      "cell_type": "markdown",
      "metadata": {
        "id": "NI3r1wLMTM7Z"
      },
      "source": [
        "### Now let's see the most frequent top venues in the second cluster"
      ]
    },
    {
      "cell_type": "code",
      "metadata": {
        "id": "hL8bAJSjTM7Z"
      },
      "source": [
        "cluster_2.groupby(\"1st Most Common Venue\").count().sort_values(by=\"Neighborhood\",ascending=False)"
      ],
      "execution_count": null,
      "outputs": []
    },
    {
      "cell_type": "markdown",
      "metadata": {
        "id": "qu366p9Mt8W7"
      },
      "source": [
        "###### Construction and Landscaping, ATMs are the also among the available venues in cluster 2"
      ]
    },
    {
      "cell_type": "markdown",
      "metadata": {
        "id": "0V3wfoQGTM7Z"
      },
      "source": [
        "#### Filipino restaurants are also preferable venue in cluster 2"
      ]
    },
    {
      "cell_type": "code",
      "metadata": {
        "id": "jY9sjegLTM7Z"
      },
      "source": [
        "cluster_2.groupby(\"10th Most Common Venue\").count().sort_values(by=\"Neighborhood\",ascending=False)"
      ],
      "execution_count": null,
      "outputs": []
    },
    {
      "cell_type": "markdown",
      "metadata": {
        "id": "RERERkQsTM7Z"
      },
      "source": [
        "#### Hotel Bar and Zoo are also among the most available venues in cluster 2"
      ]
    },
    {
      "cell_type": "markdown",
      "metadata": {
        "id": "UblKIPxyu6BH"
      },
      "source": [
        "Now let's see the most frequent top venues in the third cluster"
      ]
    },
    {
      "cell_type": "code",
      "metadata": {
        "id": "W9sn2haHu8q0"
      },
      "source": [
        "cluster_3.groupby(\"1st Most Common Venue\").count().sort_values(by=\"Neighborhood\",ascending=False)"
      ],
      "execution_count": null,
      "outputs": []
    },
    {
      "cell_type": "code",
      "metadata": {
        "id": "J3yWSOC9vR2R"
      },
      "source": [
        "cluster_3.groupby(\"10th Most Common Venue\").count().sort_values(by=\"Neighborhood\",ascending=False)"
      ],
      "execution_count": null,
      "outputs": []
    },
    {
      "cell_type": "markdown",
      "metadata": {
        "id": "ZT0nBQfhvgmb"
      },
      "source": [
        "###### Farms and Bakery are among available places in cluster 3. Airport Terminal, Museum, Night Club and Hockey Arena are also some of the most common venues in Cluster 3."
      ]
    },
    {
      "cell_type": "markdown",
      "metadata": {
        "id": "F9UMC8yvzTnQ"
      },
      "source": [
        "###CLUSTER PLOT\r\n"
      ]
    },
    {
      "cell_type": "markdown",
      "metadata": {
        "id": "tDVQ6PvaTM7Z"
      },
      "source": [
        "## Final Suggestion: Any investment other than Fast Food restaurant, Grocery Store and Coffee Shop is better, considering there's a market for it. Bus Station, Shopping Malls and Beach are lagging behind in the frequency. So investing in them would make a better sense as there's a market for it but the availability is lesser."
      ]
    }
  ]
}